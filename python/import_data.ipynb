{
 "cells": [
  {
   "cell_type": "code",
   "execution_count": 1,
   "metadata": {},
   "outputs": [
    {
     "data": {
      "text/plain": [
       "'/home/waniomar/Office/Berkeley/Scripts/sde/python'"
      ]
     },
     "execution_count": 1,
     "metadata": {},
     "output_type": "execute_result"
    }
   ],
   "source": [
    "import pandas as pd\n",
    "import datetime as dt\n",
    "import copy\n",
    "from pandas.plotting import register_matplotlib_converters\n",
    "import copy\n",
    "import os\n",
    "import netCDF4 as nc4            # to work with netCDFs\n",
    "import time\n",
    "\n",
    "register_matplotlib_converters()\n",
    "os.getcwd()"
   ]
  },
  {
   "cell_type": "code",
   "execution_count": 2,
   "metadata": {},
   "outputs": [],
   "source": [
    "watershed = ['1-EastRiver', '2-DryCreek','3-Sagehen','4-HJAndrews','5-Baltimore',\n",
    "             '6-Bonanza','7-CCE','8-CentralArizona','9-Coweeta','10-Florida',\n",
    "             '11-Georgia','12-Harvard','13-Hubbard','14-Jornada','15-Kellogg',\n",
    "             '16-KonzaPrairie','17-NGA','18-PlumIsland','19-Sevilleta','20-Boulder',\n",
    "             '21-Catalina','22-Jemez','23-WhiteClay','24-Luquillo','25-Reynolds',\n",
    "             '26-ShaleHill','27-SanJoaquin','28-Providence','29-Wolverton','30-Calhoun']"
   ]
  },
  {
   "cell_type": "code",
   "execution_count": 3,
   "metadata": {},
   "outputs": [],
   "source": [
    "path = '/home/waniomar/Office/Berkeley/Data_Zhang/chosen-master/DataProduct'"
   ]
  },
  {
   "cell_type": "code",
   "execution_count": 4,
   "metadata": {},
   "outputs": [],
   "source": [
    "ws='EastRiver'\n",
    "File=ws+'_NetCDF.nc'\n",
    "ncdf = nc4.Dataset(path +'/'+ File, 'r')"
   ]
  },
  {
   "cell_type": "code",
   "execution_count": 6,
   "metadata": {},
   "outputs": [],
   "source": [
    "# date - time info\n",
    "def get_time_range(watershed_number):\n",
    "    ws=watershed[watershed_number-1].split('-')[1]\n",
    "    print(ws)\n",
    "    File=ws+'_NetCDF.nc'\n",
    "    ncdf = nc4.Dataset(path +'/'+ File, 'r')\n",
    "    dt_lst=[pd.to_datetime(i) for i in ncdf.variables['Datetime'][:]]\n",
    "    ncdf.close()\n",
    "    print(ws+' data is from', dt_lst[0], 'to',dt_lst[-1])\n",
    "    #return [str(dt_lst[0]),str(dt_lst[1])]\n",
    "    # station info\n",
    "    \n",
    "def get_station_name(watershed_number):\n",
    "    ws=watershed[watershed_number-1].split('-')[1]\n",
    "    print(ws)\n",
    "    File=ws+'_NetCDF.nc'\n",
    "    ncdf = nc4.Dataset(path +'/'+ File, 'r')\n",
    "    stn_names=ncdf.variables['Grid'][:]\n",
    "    ncdf.close()\n",
    "    return stn_names\n",
    "def get_station_latitude(watershed_number):\n",
    "    ws=watershed[watershed_number-1].split('-')[1]\n",
    "    print(ws)\n",
    "    File=ws+'_NetCDF.nc'\n",
    "    ncdf = nc4.Dataset(path +'/'+ File, 'r')\n",
    "    stn_names=ncdf.variables['Grid'].Latitude\n",
    "    ncdf.close()\n",
    "    return stn_names\n",
    "def get_station_longitude(watershed_number):\n",
    "    ws=watershed[watershed_number-1].split('-')[1]\n",
    "    print(ws)\n",
    "    File=ws+'_NetCDF.nc'\n",
    "    ncdf = nc4.Dataset(path +'/'+ File, 'r')\n",
    "    stn_names=ncdf.variables['Grid'].Longitude\n",
    "    ncdf.close()\n",
    "    return stn_names\n",
    "def get_station_elevation(watershed_number): # in meter\n",
    "    ws=watershed[watershed_number-1].split('-')[1]\n",
    "    print(ws)\n",
    "    File=ws+'_NetCDF.nc'\n",
    "    ncdf = nc4.Dataset(path +'/'+ File, 'r')\n",
    "    stn_names=ncdf.variables['Grid'].Elevation_m\n",
    "    ncdf.close()\n",
    "    return stn_names\n",
    "\n",
    "# extract data table\n",
    "def get_data(watershed_number,variable_names_lst=[]): # variable_names_lst=[] to get all the data\n",
    "    ws=watershed[watershed_number-1].split('-')[1]\n",
    "    print(ws)\n",
    "    File=ws+'_NetCDF.nc'\n",
    "    ncdf = nc4.Dataset(path +'/'+ File, 'r')\n",
    "    keys_lst=list(ncdf.variables.keys())\n",
    "    len_keys=len(keys_lst)\n",
    "    print(\"Hydrometeorological variables in this watershed are:\")\n",
    "    all_variables=keys_lst[2:int(len_keys/2)]\n",
    "    print(all_variables)\n",
    "    if variable_names_lst==[]:\n",
    "        for i,var in enumerate(all_variables):\n",
    "            indexUnique = pd.date_range(str(pd.to_datetime(ncdf.variables['Datetime'][:][0])), \n",
    "                                        str(pd.to_datetime(ncdf.variables['Datetime'][:][-1])))  \n",
    "            var_df=pd.DataFrame(ncdf.variables[var][:], index=indexUnique, \n",
    "                                columns = [ncdf.variables[var].names])\n",
    "            if i==0:\n",
    "                former_df=var_df\n",
    "            else:\n",
    "                former_df=pd.concat([former_df,var_df],axis=1,join='outer')\n",
    "    else:\n",
    "        for i,var in enumerate(variable_names_lst):\n",
    "            indexUnique = pd.date_range(str(pd.to_datetime(ncdf.variables['Datetime'][:][0])), \n",
    "                                        str(pd.to_datetime(ncdf.variables['Datetime'][:][-1])))  \n",
    "            \n",
    "            if ncdf.variables[var][:].shape[1]==1:\n",
    "                var_df=pd.DataFrame(ncdf.variables[var][:], index=indexUnique, columns = [ncdf.variables[var].names])\n",
    "            else:\n",
    "                var_df=pd.DataFrame(ncdf.variables[var][:], index=indexUnique, columns = ncdf.variables[var].names)\n",
    "            \n",
    "            if i==0:\n",
    "                former_df=var_df\n",
    "            else:\n",
    "                former_df=pd.concat([former_df,var_df],axis=1,join='outer')      \n",
    "    ncdf.close()\n",
    "    former_df.index.rename('DateTime',inplace = True)\n",
    "    return former_df"
   ]
  },
  {
   "cell_type": "code",
   "execution_count": null,
   "metadata": {},
   "outputs": [],
   "source": []
  }
 ],
 "metadata": {
  "kernelspec": {
   "display_name": "Python 3",
   "language": "python",
   "name": "python3"
  },
  "language_info": {
   "codemirror_mode": {
    "name": "ipython",
    "version": 3
   },
   "file_extension": ".py",
   "mimetype": "text/x-python",
   "name": "python",
   "nbconvert_exporter": "python",
   "pygments_lexer": "ipython3",
   "version": "3.8.5"
  }
 },
 "nbformat": 4,
 "nbformat_minor": 4
}
